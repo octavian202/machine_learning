{
 "cells": [
  {
   "cell_type": "code",
   "execution_count": 1,
   "metadata": {},
   "outputs": [],
   "source": [
    "import numpy as np\n",
    "import pandas as pd\n",
    "import os\n",
    "from sklearn.model_selection import train_test_split"
   ]
  },
  {
   "cell_type": "code",
   "execution_count": 2,
   "metadata": {},
   "outputs": [],
   "source": [
    "df = pd.read_csv(\"E:\\datasets\\data.csv\")\n",
    "\n",
    "label = \"calories\"\n",
    "\n",
    "X = np.array(df.drop([label], 1))\n",
    "Y = np.array(df[label])\n",
    "\n",
    "X_train, X_test, Y_train, Y_test = train_test_split(X, Y, test_size=0.2)"
   ]
  },
  {
   "cell_type": "code",
   "execution_count": 3,
   "metadata": {},
   "outputs": [],
   "source": [
    "initial_m = 0\n",
    "initial_b = 0"
   ]
  },
  {
   "cell_type": "code",
   "execution_count": 4,
   "metadata": {},
   "outputs": [],
   "source": [
    "def SSE(m, b, testX, testy):\n",
    "    totalError = 0.0\n",
    "    for i in range(len(testX)):\n",
    "        x = testX[i]\n",
    "        y = testy[i]\n",
    "        \n",
    "        error = (y - x) ** 2\n",
    "        \n",
    "        totalError += error\n",
    "        \n",
    "    sse = error / float(len(testX))\n",
    "    \n",
    "    return sse\n",
    "\n",
    "\n",
    "def gradient_step(m, b, Xtrain, ytrain, learning_rate):\n",
    "    m_grad = 0\n",
    "    b_grad = 0\n",
    "    N = float(len(Xtrain))\n",
    "    \n",
    "    for j in range(len(Xtrain)):\n",
    "        x = Xtrain[j]\n",
    "        y = ytrain[j]\n",
    "        \n",
    "        dm = -(2/N) * x * (y - (m * x + b))\n",
    "        db = -(2/N) * (y - (m * x + b))\n",
    "        \n",
    "        m_grad += dm\n",
    "        b_grad += db\n",
    "    \n",
    "    m_new = m - m_grad * learning_rate\n",
    "    b_new = b - b_grad * learning_rate\n",
    "    \n",
    "    return m_new, b_new\n",
    "\n",
    "def gradient_descent(starting_m, starting_b, X_train, y_train, learning_rate=0.0001, epochs=1000):\n",
    "    m = starting_m\n",
    "    b = starting_b\n",
    "    \n",
    "    for i in range(epochs):\n",
    "        m, b = gradient_step(m, b, X_train, y_train, learning_rate)\n",
    "        \n",
    "    return m, b"
   ]
  },
  {
   "cell_type": "code",
   "execution_count": 5,
   "metadata": {},
   "outputs": [],
   "source": [
    "m, b = gradient_descent(initial_m, initial_b, X_train, y_train)"
   ]
  },
  {
   "cell_type": "code",
   "execution_count": 6,
   "metadata": {},
   "outputs": [
    {
     "name": "stdout",
     "output_type": "stream",
     "text": [
      "[43.4412058]\n",
      "\n",
      "Prediction: 82.828166 \n",
      "Actual value: 85.498068\n",
      "\n",
      "\n",
      "Prediction: 56.274877 \n",
      "Actual value: 80.166275\n",
      "\n",
      "\n",
      "Prediction: 84.853965 \n",
      "Actual value: 74.084130\n",
      "\n",
      "\n",
      "Prediction: 60.672561 \n",
      "Actual value: 59.358850\n",
      "\n",
      "\n",
      "Prediction: 82.349521 \n",
      "Actual value: 79.550437\n",
      "\n",
      "\n",
      "Prediction: 60.789520 \n",
      "Actual value: 61.684038\n",
      "\n",
      "\n",
      "Prediction: 78.842224 \n",
      "Actual value: 68.777596\n",
      "\n",
      "\n",
      "Prediction: 48.638880 \n",
      "Actual value: 67.170656\n",
      "\n",
      "\n",
      "Prediction: 70.068319 \n",
      "Actual value: 71.546632\n",
      "\n",
      "\n",
      "Prediction: 83.708067 \n",
      "Actual value: 81.436192\n",
      "\n",
      "\n",
      "Prediction: 47.992930 \n",
      "Actual value: 31.707006\n",
      "\n",
      "\n",
      "Prediction: 72.616305 \n",
      "Actual value: 84.742698\n",
      "\n",
      "\n",
      "Prediction: 72.250676 \n",
      "Actual value: 60.723602\n",
      "\n",
      "\n",
      "Prediction: 74.064825 \n",
      "Actual value: 69.847604\n",
      "\n",
      "\n",
      "Prediction: 61.078059 \n",
      "Actual value: 79.102830\n",
      "\n",
      "\n",
      "Prediction: 77.068903 \n",
      "Actual value: 63.358790\n",
      "\n",
      "\n",
      "Prediction: 48.864969 \n",
      "Actual value: 50.719589\n",
      "\n",
      "\n",
      "Prediction: 84.854091 \n",
      "Actual value: 91.486778\n",
      "\n",
      "\n",
      "Prediction: 88.971556 \n",
      "Actual value: 97.379897\n",
      "\n",
      "\n",
      "Prediction: 65.256297 \n",
      "Actual value: 73.687564\n",
      "\n"
     ]
    }
   ],
   "source": [
    "print(SSE(m, b, X_test, y_test))\n",
    "\n",
    "for i in range(len(X_test)):\n",
    "    print('\\nPrediction: %.6f \\nActual value: %.6f\\n' %(X_test[i] * m + b, y_test[i]))\n"
   ]
  },
  {
   "cell_type": "code",
   "execution_count": 7,
   "metadata": {},
   "outputs": [],
   "source": [
    "import matplotlib.pyplot as plt"
   ]
  },
  {
   "cell_type": "code",
   "execution_count": 10,
   "metadata": {},
   "outputs": [
    {
     "data": {
      "image/png": "[encoded data removed]",
      "text/plain": [
       "<Figure size 720x360 with 1 Axes>"
      ]
     },
     "metadata": {
      "needs_background": "light"
     },
     "output_type": "display_data"
    }
   ],
   "source": [
    "fig = plt.figure(figsize=(10,5))\n",
    "ax = fig.add_subplot(111)\n",
    "ax.scatter(x=X,y=y,label='Data')\n",
    "plt.plot(X, m*X + b,color='red',label='Our Fitting Line')\n",
    "ax.set_xlabel('distanta')\n",
    "ax.set_ylabel('calorii')\n",
    "ax.legend(loc='best')\n",
    "\n",
    "plt.show()"
   ]
  },
  {
   "cell_type": "code",
   "execution_count": null,
   "metadata": {},
   "outputs": [],
   "source": []
  }
 ],
 "metadata": {
  "kernelspec": {
   "display_name": "Python 3",
   "language": "python",
   "name": "python3"
  },
  "language_info": {
   "codemirror_mode": {
    "name": "ipython",
    "version": 3
   },
   "file_extension": ".py",
   "mimetype": "text/x-python",
   "name": "python",
   "nbconvert_exporter": "python",
   "pygments_lexer": "ipython3",
   "version": "3.7.6"
  }
 },
 "nbformat": 4,
 "nbformat_minor": 4
}
