{
 "cells": [
  {
   "cell_type": "code",
   "execution_count": 6,
   "metadata": {},
   "outputs": [],
   "source": [
    "import numpy as np"
   ]
  },
  {
   "cell_type": "code",
   "execution_count": 7,
   "metadata": {},
   "outputs": [],
   "source": [
    "data = [[3  , 1.5, 1], \n",
    "        [2  , 1  , 0], \n",
    "        [4  , 1.5, 1], \n",
    "        [3  , 1  , 0],\n",
    "        [3.5,  .5, 1],\n",
    "        [2  ,  .5, 0],\n",
    "        [5.5, 1  , 1],\n",
    "        [1  , 1  , 0]]\n",
    "\n",
    "mystery_flower = [4.5, 1]"
   ]
  },
  {
   "cell_type": "code",
   "execution_count": 8,
   "metadata": {},
   "outputs": [],
   "source": [
    "w1 = np.random.randn()\n",
    "w2 = np.random.randn()\n",
    "b = np.random.randn()"
   ]
  },
  {
   "cell_type": "code",
   "execution_count": 11,
   "metadata": {},
   "outputs": [],
   "source": [
    "def sigmoid(x):\n",
    "    return 1 / (1 + np.exp(-x))\n",
    "\n",
    "def sigmoid_p(x):\n",
    "    return sigmoid(x) * (1 - sigmoid(x))"
   ]
  },
  {
   "cell_type": "code",
   "execution_count": 13,
   "metadata": {},
   "outputs": [],
   "source": [
    "epochs = 50000\n",
    "learning_rate = .001\n",
    "\n",
    "for i in range(epochs):\n",
    "    ri = np.random.randint(len(data))\n",
    "    point = data[ri]\n",
    "    \n",
    "    z = point[0] * w1 + point[1] * w2 + b\n",
    "    prediction = sigmoid(z)\n",
    "    \n",
    "    target = point[2]\n",
    "    cost = (prediction - target) ** 2\n",
    "    \n",
    "    dcost_prediction = 2 * (prediction - target)\n",
    "    dprediction_dz = sigmoid_p(z)\n",
    "    dcost_dz = dcost_prediction * dprediction_dz\n",
    "    \n",
    "    dz_dw1 = point[0]\n",
    "    dz_dw2 = point[1]\n",
    "    dz_db = 1\n",
    "    \n",
    "    dcost_dw1 = dcost_dz * dz_dw1\n",
    "    dcost_dw2 = dcost_dz * dz_dw2\n",
    "    dcost_db = dcost_dz * dz_db\n",
    "    \n",
    "    w1 -= dcost_dw1 * learning_rate\n",
    "    w2 -= dcost_dw2 * learning_rate\n",
    "    b -= dcost_db * learning_rate\n",
    "    \n",
    "    if i % 100 is 0:\n",
    "        cost_sum = 0\n",
    "        \n",
    "        for j in range(len(data)):\n",
    "            point_p = data[j]\n",
    "            \n",
    "            pred = sigmoid(point_p[0] * w1)"
   ]
  }
 ],
 "metadata": {
  "kernelspec": {
   "display_name": "Python 3",
   "language": "python",
   "name": "python3"
  },
  "language_info": {
   "codemirror_mode": {
    "name": "ipython",
    "version": 3
   },
   "file_extension": ".py",
   "mimetype": "text/x-python",
   "name": "python",
   "nbconvert_exporter": "python",
   "pygments_lexer": "ipython3",
   "version": "3.7.6"
  }
 },
 "nbformat": 4,
 "nbformat_minor": 4
}
