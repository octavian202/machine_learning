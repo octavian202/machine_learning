{
 "cells": [
  {
   "cell_type": "code",
   "execution_count": 26,
   "metadata": {},
   "outputs": [],
   "source": [
    "import numpy as np\n",
    "import pandas as pd\n",
    "import os\n",
    "from sklearn.model_selection import train_test_split"
   ]
  },
  {
   "cell_type": "code",
   "execution_count": 27,
   "metadata": {},
   "outputs": [],
   "source": [
    "df = pd.read_csv(\"E:\\datasets\\data.csv\")\n",
    "\n",
    "label = \"calories\"\n",
    "\n",
    "X = np.array(df.drop([label], 1))\n",
    "y = np.array(df[label])\n",
    "\n",
    "X_train, X_test, y_train, y_test = train_test_split(X, y, test_size=0.2)"
   ]
  },
  {
   "cell_type": "code",
   "execution_count": 28,
   "metadata": {},
   "outputs": [],
   "source": [
    "initial_m = 0\n",
    "initial_b = 0"
   ]
  },
  {
   "cell_type": "code",
   "execution_count": 32,
   "metadata": {},
   "outputs": [],
   "source": [
    "def SSE(m, b, testX, testy):\n",
    "    totalError = 0.0\n",
    "    for i in range(len(testX)):\n",
    "        x = testX[i]\n",
    "        y = testy[i]\n",
    "        \n",
    "        error = (y - x) ** 2\n",
    "        \n",
    "        totalError += error\n",
    "        \n",
    "    sse = error / float(len(testX))\n",
    "    \n",
    "    return sse\n",
    "\n",
    "\n",
    "def gradient_step(m, b, trainx, trainy, learningRate):\n",
    "    \n",
    "    N = float(len(trainx))\n",
    "    \n",
    "    m_grad = 0\n",
    "    b_grad = 0\n",
    "    \n",
    "    for j in range(0,len(trainx)):\n",
    "        x = trainx[j]\n",
    "        y = trainy[j]\n",
    "        \n",
    "        dm = -(2/N) * x * (y - ((m*x) + b))\n",
    "        db = -(2/N) * (y - ((m*x) + b))\n",
    "        \n",
    "        m_grad += dm\n",
    "        b_grad += db\n",
    "        \n",
    "    m_updated = m - m_grad * learningRate\n",
    "    b_updated = b - b_grad * learningRate\n",
    "    \n",
    "    return m_updated, b_updated\n",
    "\n",
    "def gradient_descent(starting_m, starting_b, Xtrain, ytrain, learning_rate=0.0001, epochs=10):\n",
    "    m = starting_m\n",
    "    b = starting_b\n",
    "    \n",
    "    for i in range(epochs):\n",
    "        m, b = gradient_step(m, b, Xtrain, ytrain, learning_rate)\n",
    "    \n",
    "    return m, b"
   ]
  },
  {
   "cell_type": "code",
   "execution_count": 33,
   "metadata": {},
   "outputs": [],
   "source": [
    "m, b = gradient_descent(initial_m, initial_b, X_train, y_train)"
   ]
  },
  {
   "cell_type": "code",
   "execution_count": 34,
   "metadata": {},
   "outputs": [
    {
     "name": "stdout",
     "output_type": "stream",
     "text": [
      "[14.52428506]\n",
      "\n",
      "Prediction: 56.068373 \n",
      "Actual value: 80.166275\n",
      "\n",
      "\n",
      "Prediction: 59.077753 \n",
      "Actual value: 54.084055\n",
      "\n",
      "\n",
      "Prediction: 91.901583 \n",
      "Actual value: 86.520538\n",
      "\n",
      "\n",
      "Prediction: 93.549351 \n",
      "Actual value: 95.229366\n",
      "\n",
      "\n",
      "Prediction: 46.466189 \n",
      "Actual value: 50.392670\n",
      "\n",
      "\n",
      "Prediction: 86.837194 \n",
      "Actual value: 77.634183\n",
      "\n",
      "\n",
      "Prediction: 76.245865 \n",
      "Actual value: 75.380652\n",
      "\n",
      "\n",
      "Prediction: 68.737291 \n",
      "Actual value: 79.052406\n",
      "\n",
      "\n",
      "Prediction: 49.489555 \n",
      "Actual value: 69.899682\n",
      "\n",
      "\n",
      "Prediction: 77.029803 \n",
      "Actual value: 86.098291\n",
      "\n",
      "\n",
      "Prediction: 60.453441 \n",
      "Actual value: 59.358850\n",
      "\n",
      "\n",
      "Prediction: 69.830432 \n",
      "Actual value: 57.251819\n",
      "\n",
      "\n",
      "Prediction: 73.949072 \n",
      "Actual value: 69.510503\n",
      "\n",
      "\n",
      "Prediction: 55.900289 \n",
      "Actual value: 61.366905\n",
      "\n",
      "\n",
      "Prediction: 59.713771 \n",
      "Actual value: 65.562301\n",
      "\n",
      "\n",
      "Prediction: 81.092747 \n",
      "Actual value: 78.211518\n",
      "\n",
      "\n",
      "Prediction: 60.857776 \n",
      "Actual value: 79.102830\n",
      "\n",
      "\n",
      "Prediction: 84.279626 \n",
      "Actual value: 95.455053\n",
      "\n",
      "\n",
      "Prediction: 80.998525 \n",
      "Actual value: 71.139728\n",
      "\n",
      "\n",
      "Prediction: 52.478815 \n",
      "Actual value: 52.721735\n",
      "\n"
     ]
    }
   ],
   "source": [
    "print(SSE(m, b, X_test, y_test))\n",
    "\n",
    "for i in range(len(X_test)):\n",
    "    print('\\nPrediction: %.6f \\nActual value: %.6f\\n' %(X_test[i] * m + b, y_test[i]))\n"
   ]
  },
  {
   "cell_type": "code",
   "execution_count": 35,
   "metadata": {},
   "outputs": [],
   "source": [
    "import matplotlib.pyplot as plt"
   ]
  },
  {
   "cell_type": "code",
   "execution_count": 36,
   "metadata": {},
   "outputs": [
    {
     "data": {
      "image/png": "[encoded data removed]",
      "text/plain": [
       "<Figure size 720x360 with 1 Axes>"
      ]
     },
     "metadata": {
      "needs_background": "light"
     },
     "output_type": "display_data"
    }
   ],
   "source": [
    "fig = plt.figure(figsize=(10,5))\n",
    "ax = fig.add_subplot(111)\n",
    "ax.scatter(x=X,y=y,label='Data')\n",
    "plt.plot(X, m*X + b,color='red',label='Our Fitting Line')\n",
    "ax.set_xlabel('distanta')\n",
    "ax.set_ylabel('calorii')\n",
    "ax.legend(loc='best')\n",
    "\n",
    "plt.show()"
   ]
  }
 ],
 "metadata": {
  "kernelspec": {
   "display_name": "Python 3",
   "language": "python",
   "name": "python3"
  },
  "language_info": {
   "codemirror_mode": {
    "name": "ipython",
    "version": 3
   },
   "file_extension": ".py",
   "mimetype": "text/x-python",
   "name": "python",
   "nbconvert_exporter": "python",
   "pygments_lexer": "ipython3",
   "version": "3.7.6"
  }
 },
 "nbformat": 4,
 "nbformat_minor": 4
}
